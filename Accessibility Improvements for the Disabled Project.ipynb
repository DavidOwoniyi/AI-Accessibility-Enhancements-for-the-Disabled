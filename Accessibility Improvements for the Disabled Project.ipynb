{
 "cells": [
  {
   "cell_type": "markdown",
   "metadata": {},
   "source": [
    "# Accessibility Improvements for the Disabled"
   ]
  },
  {
   "cell_type": "code",
   "execution_count": 1,
   "metadata": {},
   "outputs": [
    {
     "name": "stdout",
     "output_type": "stream",
     "text": [
      "pygame 2.6.0 (SDL 2.28.4, Python 3.11.7)\n",
      "Hello from the pygame community. https://www.pygame.org/contribute.html\n"
     ]
    }
   ],
   "source": [
    "#importing dependencies\n",
    "import speech_recognition as sr\n",
    "import time\n",
    "from gtts import gTTS\n",
    "import os\n",
    "import winsound\n",
    "import pygame"
   ]
  },
  {
   "cell_type": "code",
   "execution_count": 3,
   "metadata": {},
   "outputs": [],
   "source": [
    "recognizer = sr.Recognizer()"
   ]
  },
  {
   "cell_type": "code",
   "execution_count": 4,
   "metadata": {},
   "outputs": [],
   "source": [
    "def capture_voice_input():\n",
    "    with sr.Microphone() as source:\n",
    "        print(\"Listening...\")\n",
    "        recognizer.adjust_for_ambient_noise(source)\n",
    "\n",
    "        try:\n",
    "            audio = recognizer.listen(source, timeout=5, phrase_time_limit=5)\n",
    "        except sr.WaitTimeoutError:\n",
    "            print(\"Listening timed out while waiting for you to speak\")\n",
    "            return None\n",
    "    return audio"
   ]
  },
  {
   "cell_type": "code",
   "execution_count": 5,
   "metadata": {},
   "outputs": [],
   "source": [
    "def convert_voice_to_text(audio):\n",
    "    if audio is None:\n",
    "        return \"\"\n",
    "    try:\n",
    "        text = recognizer.recognize_google(audio)\n",
    "        print(\"You said: \" + text)\n",
    "    except sr.UnknownValueError:\n",
    "        text = \"\"\n",
    "        print(\"Sorry I didn't understand that.\")\n",
    "    except sr.RequestError as e:\n",
    "        text = \"\"\n",
    "        print(\"Error: {0}\".format(e))\n",
    "    return text"
   ]
  },
  {
   "cell_type": "code",
   "execution_count": 9,
   "metadata": {},
   "outputs": [
    {
     "ename": "PermissionError",
     "evalue": "[Errno 13] Permission denied: 'speech.mp3'",
     "output_type": "error",
     "traceback": [
      "\u001b[1;31m---------------------------------------------------------------------------\u001b[0m",
      "\u001b[1;31mPermissionError\u001b[0m                           Traceback (most recent call last)",
      "Cell \u001b[1;32mIn[9], line 23\u001b[0m\n\u001b[0;32m     18\u001b[0m         pygame\u001b[38;5;241m.\u001b[39mtime\u001b[38;5;241m.\u001b[39mClock()\u001b[38;5;241m.\u001b[39mtick(\u001b[38;5;241m10\u001b[39m)\n\u001b[0;32m     20\u001b[0m     \u001b[38;5;66;03m#  # Optionally remove the audio file after playback\u001b[39;00m\n\u001b[0;32m     21\u001b[0m     \u001b[38;5;66;03m# os.remove(speech_file)\u001b[39;00m\n\u001b[1;32m---> 23\u001b[0m text_to_speech(\u001b[38;5;124m\"\u001b[39m\u001b[38;5;124mOh my God, what are you doing, stop that!\u001b[39m\u001b[38;5;124m\"\u001b[39m)\n",
      "Cell \u001b[1;32mIn[9], line 7\u001b[0m, in \u001b[0;36mtext_to_speech\u001b[1;34m(text)\u001b[0m\n\u001b[0;32m      5\u001b[0m \u001b[38;5;66;03m# Save the audio file to a temporary file\u001b[39;00m\n\u001b[0;32m      6\u001b[0m speech_file \u001b[38;5;241m=\u001b[39m \u001b[38;5;124m'\u001b[39m\u001b[38;5;124mspeech.mp3\u001b[39m\u001b[38;5;124m'\u001b[39m\n\u001b[1;32m----> 7\u001b[0m speech\u001b[38;5;241m.\u001b[39msave(speech_file)\n\u001b[0;32m      9\u001b[0m \u001b[38;5;66;03m# Play the audio file\u001b[39;00m\n\u001b[0;32m     10\u001b[0m \u001b[38;5;66;03m# os.system('afplay ' + speech_file)\u001b[39;00m\n\u001b[0;32m     11\u001b[0m  \u001b[38;5;66;03m# Initialize pygame mixer\u001b[39;00m\n\u001b[0;32m     12\u001b[0m pygame\u001b[38;5;241m.\u001b[39mmixer\u001b[38;5;241m.\u001b[39minit()\n",
      "File \u001b[1;32mc:\\Users\\david\\anaconda3\\Lib\\site-packages\\gtts\\tts.py:334\u001b[0m, in \u001b[0;36mgTTS.save\u001b[1;34m(self, savefile)\u001b[0m\n\u001b[0;32m    324\u001b[0m \u001b[38;5;28;01mdef\u001b[39;00m \u001b[38;5;21msave\u001b[39m(\u001b[38;5;28mself\u001b[39m, savefile):\n\u001b[0;32m    325\u001b[0m \u001b[38;5;250m    \u001b[39m\u001b[38;5;124;03m\"\"\"Do the TTS API request and write result to file.\u001b[39;00m\n\u001b[0;32m    326\u001b[0m \n\u001b[0;32m    327\u001b[0m \u001b[38;5;124;03m    Args:\u001b[39;00m\n\u001b[1;32m   (...)\u001b[0m\n\u001b[0;32m    332\u001b[0m \n\u001b[0;32m    333\u001b[0m \u001b[38;5;124;03m    \"\"\"\u001b[39;00m\n\u001b[1;32m--> 334\u001b[0m     \u001b[38;5;28;01mwith\u001b[39;00m \u001b[38;5;28mopen\u001b[39m(\u001b[38;5;28mstr\u001b[39m(savefile), \u001b[38;5;124m\"\u001b[39m\u001b[38;5;124mwb\u001b[39m\u001b[38;5;124m\"\u001b[39m) \u001b[38;5;28;01mas\u001b[39;00m f:\n\u001b[0;32m    335\u001b[0m         \u001b[38;5;28mself\u001b[39m\u001b[38;5;241m.\u001b[39mwrite_to_fp(f)\n\u001b[0;32m    336\u001b[0m         f\u001b[38;5;241m.\u001b[39mflush()\n",
      "\u001b[1;31mPermissionError\u001b[0m: [Errno 13] Permission denied: 'speech.mp3'"
     ]
    }
   ],
   "source": [
    "def text_to_speech(text):\n",
    "    # Initialize gTTS with the text to convert\n",
    "    speech = gTTS(text, tld='com.ng', lang='en',  slow=False)\n",
    "\n",
    "    # Save the audio file to a temporary file\n",
    "    speech_file = 'speech.mp3'\n",
    "    speech.save(speech_file)\n",
    "\n",
    "    # Play the audio file\n",
    "    # os.system('afplay ' + speech_file)\n",
    "     # Initialize pygame mixer\n",
    "    pygame.mixer.init()\n",
    "    pygame.mixer.music.load(speech_file)\n",
    "    pygame.mixer.music.play()\n",
    " \n",
    "    # Wait until the audio finishes playing\n",
    "    while pygame.mixer.music.get_busy():\n",
    "        pygame.time.Clock().tick(10)\n",
    "\n",
    "    #  # Optionally remove the audio file after playback\n",
    "    # os.remove(speech_file)\n",
    "\n",
    "text_to_speech(\"Oh my God, what are you doing, stop that!\")"
   ]
  },
  {
   "cell_type": "code",
   "execution_count": 7,
   "metadata": {},
   "outputs": [],
   "source": [
    "def process_voice_command(text):\n",
    "    if \"hello\" in text.lower():\n",
    "        print(\"Hello! How can I help you?\")\n",
    "    elif \"what is your name\" in text.lower():\n",
    "        print(\"My name is Eden\")\n",
    "    elif (\"how are you doing today\" in text.lower() or\n",
    "          \"how are you\" in text.lower() or\n",
    "          \"how are you doing\" in text.lower()):\n",
    "        print(\"I'm doing alright, thank you sir\")\n",
    "    elif (\"alright, goodbye\" in text.lower() or \n",
    "          \"alright\" in text.lower() or \n",
    "          \"goodbye\" in text.lower() or \n",
    "          \"all right\" in text.lower() or \n",
    "          \"stop\" in text.lower()):\n",
    "        print(\"Goodbye! Have a nice day\")\n",
    "        return True\n",
    "    else: print(\"I didn't understand that command. Please try again.\")\n",
    "    return False"
   ]
  },
  {
   "cell_type": "code",
   "execution_count": 8,
   "metadata": {},
   "outputs": [
    {
     "name": "stdout",
     "output_type": "stream",
     "text": [
      "Listening...\n",
      "Sorry I didn't understand that.\n",
      "Retrying... (1/3)\n",
      "Listening...\n",
      "Listening timed out while waiting for you to speak\n",
      "Retrying... (2/3)\n",
      "Listening...\n",
      "Sorry I didn't understand that.\n",
      "Retrying... (3/3)\n",
      "Too many failed attempts due to timeout. Exiting program.\n"
     ]
    }
   ],
   "source": [
    "def main():\n",
    "    end_program = False\n",
    "    attempts = 0\n",
    "    max_attempts = 3  # Limit to the number of attempts\n",
    "\n",
    "    while not end_program and attempts < max_attempts:\n",
    "        audio = capture_voice_input()\n",
    "        if audio is None:\n",
    "            attempts += 1\n",
    "            print(f\"Retrying... ({attempts}/{max_attempts})\")\n",
    "            time.sleep(1)  # Delay to prevent rapid looping\n",
    "        else:\n",
    "            text = convert_voice_to_text(audio)\n",
    "            if text == \"\":\n",
    "                attempts += 1\n",
    "                print(f\"Retrying... ({attempts}/{max_attempts})\")\n",
    "            else:\n",
    "                end_program = process_voice_command(text)\n",
    "\n",
    "                attempts = 0  # Reset attempts if a valid audio input is processed\n",
    "    if attempts >= max_attempts:\n",
    "        print(\"Too many failed attempts due to timeout. Exiting program.\")\n",
    "\n",
    "if __name__ == \"__main__\":\n",
    "    main()\n"
   ]
  }
 ],
 "metadata": {
  "kernelspec": {
   "display_name": "base",
   "language": "python",
   "name": "python3"
  },
  "language_info": {
   "codemirror_mode": {
    "name": "ipython",
    "version": 3
   },
   "file_extension": ".py",
   "mimetype": "text/x-python",
   "name": "python",
   "nbconvert_exporter": "python",
   "pygments_lexer": "ipython3",
   "version": "3.11.7"
  }
 },
 "nbformat": 4,
 "nbformat_minor": 2
}
