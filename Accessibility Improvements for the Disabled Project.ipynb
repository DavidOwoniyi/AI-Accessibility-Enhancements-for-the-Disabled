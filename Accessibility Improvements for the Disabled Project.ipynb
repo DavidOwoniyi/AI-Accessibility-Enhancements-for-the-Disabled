{
 "cells": [
  {
   "cell_type": "markdown",
   "metadata": {},
   "source": [
    "# Accessibility Improvements for the Disabled"
   ]
  },
  {
   "cell_type": "code",
   "execution_count": 3,
   "metadata": {},
   "outputs": [],
   "source": [
    "#importing dependencies\n",
    "import speech_recognition as sr\n",
    "import time\n",
    "from gtts import gTTS\n",
    "import os"
   ]
  },
  {
   "cell_type": "code",
   "execution_count": 4,
   "metadata": {},
   "outputs": [],
   "source": [
    "def text_to_speech(text):\n",
    "    # Initialize gTTS with the text to convert\n",
    "    speech = gTTS(text)\n",
    "\n",
    "    # Save the audio file to a temporary file\n",
    "    speech_file = 'speech.mp3'\n",
    "    speech.save(speech_file)\n",
    "\n",
    "    # Play the audio file\n",
    "    os.system('afplay ' + speech_file)\n",
    "\n",
    "# text_to_speech('Hello, world! This is a test.')"
   ]
  },
  {
   "cell_type": "code",
   "execution_count": 5,
   "metadata": {},
   "outputs": [],
   "source": [
    "recognizer = sr.Recognizer()"
   ]
  },
  {
   "cell_type": "code",
   "execution_count": 6,
   "metadata": {},
   "outputs": [],
   "source": [
    "def capture_voice_input():\n",
    "    with sr.Microphone() as source:\n",
    "        print(\"Listening...\")\n",
    "        recognizer.adjust_for_ambient_noise(source)\n",
    "\n",
    "        try:\n",
    "            audio = recognizer.listen(source, timeout=5, phrase_time_limit=5)\n",
    "        except sr.WaitTimeoutError:\n",
    "            print(\"Listening timed out while waiting for you to speak\")\n",
    "            return None\n",
    "    return audio"
   ]
  },
  {
   "cell_type": "code",
   "execution_count": 7,
   "metadata": {},
   "outputs": [],
   "source": [
    "def convert_voice_to_text(audio):\n",
    "    if audio is None:\n",
    "        return \"\"\n",
    "    try:\n",
    "        text = recognizer.recognize_google(audio)\n",
    "        print(\"You said: \" + text)\n",
    "    except sr.UnknownValueError:\n",
    "        text = \"\"\n",
    "        print(\"Sorry I didn't understand that.\")\n",
    "    except sr.RequestError as e:\n",
    "        text = \"\"\n",
    "        print(\"Error: {0}\".format(e))\n",
    "    return text"
   ]
  },
  {
   "cell_type": "code",
   "execution_count": 8,
   "metadata": {},
   "outputs": [],
   "source": [
    "def process_voice_command(text):\n",
    "    if \"hello\" in text.lower():\n",
    "        print(\"Hello! How can I help you?\")\n",
    "    elif \"what is your name\" in text.lower():\n",
    "        print(\"My name is Eden\")\n",
    "    elif (\"how are you doing today\" in text.lower() or\n",
    "          \"how are you\" in text.lower() or\n",
    "          \"how are you doing\" in text.lower()):\n",
    "        print(\"I'm doing alright, thank you sir\")\n",
    "    elif (\"alright, goodbye\" in text.lower() or \n",
    "          \"alright\" in text.lower() or \n",
    "          \"goodbye\" in text.lower() or \n",
    "          \"all right\" in text.lower() or \n",
    "          \"stop\" in text.lower()):\n",
    "        print(\"Goodbye! Have a nice day\")\n",
    "        return True\n",
    "    else: print(\"I didn't understand that command. Please try again.\")\n",
    "    return False"
   ]
  },
  {
   "cell_type": "code",
   "execution_count": 9,
   "metadata": {},
   "outputs": [
    {
     "name": "stdout",
     "output_type": "stream",
     "text": [
      "Listening...\n",
      "You said: hello how are you doing today\n",
      "Hello! How can I help you?\n",
      "Listening...\n",
      "You said: how are you doing\n",
      "I'm doing alright, thank you sir\n",
      "Listening...\n",
      "Listening timed out while waiting for you to speak\n",
      "Retrying... (1/3)\n",
      "Listening...\n",
      "Sorry I didn't understand that.\n",
      "Retrying... (2/3)\n",
      "Listening...\n",
      "Listening timed out while waiting for you to speak\n",
      "Retrying... (3/3)\n",
      "Too many failed attempts due to timeout. Exiting program.\n"
     ]
    }
   ],
   "source": [
    "def main():\n",
    "    end_program = False\n",
    "    attempts = 0\n",
    "    max_attempts = 3  # Limit to the number of attempts\n",
    "\n",
    "    while not end_program and attempts < max_attempts:\n",
    "        audio = capture_voice_input()\n",
    "        if audio is None:\n",
    "            attempts += 1\n",
    "            print(f\"Retrying... ({attempts}/{max_attempts})\")\n",
    "            time.sleep(1)  # Delay to prevent rapid looping\n",
    "        else:\n",
    "            text = convert_voice_to_text(audio)\n",
    "            if text == \"\":\n",
    "                attempts += 1\n",
    "                print(f\"Retrying... ({attempts}/{max_attempts})\")\n",
    "            else:\n",
    "                end_program = process_voice_command(text)\n",
    "                attempts = 0  # Reset attempts if a valid audio input is processed\n",
    "    if attempts >= max_attempts:\n",
    "        print(\"Too many failed attempts due to timeout. Exiting program.\")\n",
    "\n",
    "if __name__ == \"__main__\":\n",
    "    main()\n"
   ]
  }
 ],
 "metadata": {
  "kernelspec": {
   "display_name": "base",
   "language": "python",
   "name": "python3"
  },
  "language_info": {
   "codemirror_mode": {
    "name": "ipython",
    "version": 3
   },
   "file_extension": ".py",
   "mimetype": "text/x-python",
   "name": "python",
   "nbconvert_exporter": "python",
   "pygments_lexer": "ipython3",
   "version": "3.11.7"
  }
 },
 "nbformat": 4,
 "nbformat_minor": 2
}
